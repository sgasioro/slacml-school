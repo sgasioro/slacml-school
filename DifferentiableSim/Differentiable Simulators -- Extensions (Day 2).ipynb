{
 "cells": [
  {
   "cell_type": "code",
   "execution_count": 1,
   "id": "3678ae7b",
   "metadata": {},
   "outputs": [],
   "source": [
    "import torch\n",
    "import matplotlib.pyplot as plt\n",
    "from tqdm import tqdm"
   ]
  },
  {
   "cell_type": "markdown",
   "id": "1ef73dc3",
   "metadata": {},
   "source": [
    "## Recall:\n",
    "Yesterday, we developed a simple differentiable forward model and demonstrated a simple fitting of this forward model: namely, using 100 timesteps along a given trajectory, we can use our physics model and gradient descent to fit the initial position, velocity, and acceleration.\n",
    "\n",
    "As a reminder: our forward model is one function"
   ]
  },
  {
   "cell_type": "code",
   "execution_count": 2,
   "id": "54826b4e",
   "metadata": {},
   "outputs": [],
   "source": [
    "def position(t, a, x0, v0):\n",
    "    return x0 + v0*t + 0.5*a*t**2"
   ]
  },
  {
   "cell_type": "markdown",
   "id": "b885caf7",
   "metadata": {},
   "source": [
    "which takes in parameters and (measurement) time steps"
   ]
  },
  {
   "cell_type": "code",
   "execution_count": 3,
   "id": "6377c28a",
   "metadata": {},
   "outputs": [],
   "source": [
    "#Acceleration due to gravity (-9.8 m/s^2 in negative y direction)\n",
    "a_target = torch.tensor([0, -9.8])[None, :]\n",
    "\n",
    "#Initial velocity for fun (m / s)\n",
    "v0_target = torch.tensor([5, 10])[None, :]\n",
    "\n",
    "#Start at (0,10) [m]\n",
    "x0_target = torch.tensor([0,10])[None, :]\n",
    "\n",
    "#Data taken at 100 known timesteps from 0 to 5 s\n",
    "time_steps = torch.linspace(0, 5, 100)[:, None]"
   ]
  },
  {
   "cell_type": "code",
   "execution_count": 4,
   "id": "17d73dfe",
   "metadata": {},
   "outputs": [],
   "source": [
    "trajectory_target = position(time_steps, a_target, x0_target, v0_target)"
   ]
  },
  {
   "cell_type": "markdown",
   "id": "e740cf04",
   "metadata": {},
   "source": [
    "## Today: Who needs differentiable simulators, anyway?\n",
    "\n",
    "Rather than doing a parameter fitting with a differentiable forward model, we can also frame this fitting as a data-driven regression problem: namely given known trajectories $X$, corresponding parameters $\\theta$, learn a model $f$ such that:\n",
    "\n",
    "\\begin{equation}\n",
    "f(X) = \\theta\n",
    "\\end{equation}"
   ]
  },
  {
   "cell_type": "markdown",
   "id": "9b5490ab",
   "metadata": {},
   "source": [
    "This is a fairly straightforward supervised learning problem -- let's try this out with a simple multi-layer perceptron (MLP). With PyTorch, we can make this as follows:"
   ]
  },
  {
   "cell_type": "code",
   "execution_count": 5,
   "id": "53d56c08",
   "metadata": {},
   "outputs": [],
   "source": [
    "from torch import nn\n",
    "\n",
    "class MLP(nn.Module):\n",
    "    def __init__(self):\n",
    "        super().__init__()\n",
    "        \n",
    "        # Define layers -- we include 1 hidden layer for fun\n",
    "        self.layers = nn.Sequential(\n",
    "                          nn.Flatten(),\n",
    "                          nn.Linear(200, 50),\n",
    "                          nn.ReLU(),\n",
    "                          nn.Linear(50, 6)\n",
    "                        )\n",
    "\n",
    "\n",
    "    def forward(self, x):\n",
    "        out = self.layers(x)\n",
    "        out = out.reshape((-1, 3, 2))\n",
    "        return out"
   ]
  },
  {
   "cell_type": "markdown",
   "id": "2804dd04",
   "metadata": {},
   "source": [
    "We can then set up inputs and targets with appropriate dimensions. Let's do a single point to show that it works, but we'll add a new array dimension to allow for multiple trajectories (the \"batch dimension\")."
   ]
  },
  {
   "cell_type": "code",
   "execution_count": 6,
   "id": "5869ad04",
   "metadata": {},
   "outputs": [],
   "source": [
    "inputs = trajectory_target[None, :, :]\n",
    "targets = torch.stack([a_target, x0_target, v0_target]).squeeze()[None, ...]"
   ]
  },
  {
   "cell_type": "markdown",
   "id": "72a05b9a",
   "metadata": {},
   "source": [
    "The training loop should look pretty familiar from yesterday:"
   ]
  },
  {
   "cell_type": "code",
   "execution_count": 7,
   "id": "7997a56a",
   "metadata": {
    "scrolled": false
   },
   "outputs": [
    {
     "name": "stderr",
     "output_type": "stream",
     "text": [
      "100%|██████████████████████████████████████████████████████████████████████████████████████████████████████████████████████████████████████████████████████| 1000/1000 [00:00<00:00, 1933.13it/s]\n"
     ]
    }
   ],
   "source": [
    "# Initialize the MLP\n",
    "mlp = MLP()\n",
    "\n",
    "# Define the loss function and optimizer\n",
    "loss_fn = nn.MSELoss()\n",
    "optimizer = torch.optim.Adam(mlp.parameters(), lr=1e-4)\n",
    "\n",
    "# Run the training loop\n",
    "for epoch in tqdm(range(1000)): \n",
    "\n",
    "    # Zero the gradients\n",
    "    optimizer.zero_grad()\n",
    "\n",
    "    # Perform forward pass\n",
    "    outputs = mlp(inputs)\n",
    "\n",
    "    # Compute loss\n",
    "    loss = loss_fn(outputs, targets)\n",
    "\n",
    "    # Perform backward pass\n",
    "    loss.backward()\n",
    "\n",
    "    # Perform optimization\n",
    "    optimizer.step()"
   ]
  },
  {
   "cell_type": "markdown",
   "id": "73258c50",
   "metadata": {},
   "source": [
    "and it converges, as we expect"
   ]
  },
  {
   "cell_type": "code",
   "execution_count": 8,
   "id": "26e69a87",
   "metadata": {
    "scrolled": true
   },
   "outputs": [
    {
     "data": {
      "text/plain": [
       "(tensor([[[-5.6624e-07, -9.8000e+00],\n",
       "          [-1.7136e-07,  1.0000e+01],\n",
       "          [ 5.0000e+00,  1.0000e+01]]], grad_fn=<ReshapeAliasBackward0>),\n",
       " tensor([[[ 0.0000, -9.8000],\n",
       "          [ 0.0000, 10.0000],\n",
       "          [ 5.0000, 10.0000]]]))"
      ]
     },
     "execution_count": 8,
     "metadata": {},
     "output_type": "execute_result"
    }
   ],
   "source": [
    "outputs, targets"
   ]
  },
  {
   "cell_type": "markdown",
   "id": "6331c278",
   "metadata": {},
   "source": [
    "We can try a not as silly example with some set of trajectories to learn some meaningful parameter estimation -- let's just do a range of different accelerations for simplicity, and include a validation set just to check"
   ]
  },
  {
   "cell_type": "markdown",
   "id": "a082fa16",
   "metadata": {},
   "source": [
    "v0 and x0 is the same for everything, we use torch.tile to repeat it a relevant number of times"
   ]
  },
  {
   "cell_type": "code",
   "execution_count": 9,
   "id": "3f79e5fa",
   "metadata": {},
   "outputs": [],
   "source": [
    "train_size = 50\n",
    "valid_size = 50\n",
    "\n",
    "#Initial velocity for fun (m / s)\n",
    "v0s = torch.tile(torch.tensor([5., 10.])[None, :], (train_size+valid_size, 1, 1))\n",
    "\n",
    "#Start at (0,10) [m]\n",
    "x0s = torch.tile(torch.tensor([0.,10.])[None, :], (train_size+valid_size, 1, 1))\n",
    "\n",
    "#Data taken at 100 known timesteps from 0 to 5 s\n",
    "time_steps = torch.linspace(0, 5, 100)[None, :, None]"
   ]
  },
  {
   "cell_type": "markdown",
   "id": "39749889",
   "metadata": {},
   "source": [
    "Take some range of y-accelerations"
   ]
  },
  {
   "cell_type": "code",
   "execution_count": 10,
   "id": "70fa7180",
   "metadata": {},
   "outputs": [],
   "source": [
    "acc_range = torch.linspace(-12, 12, train_size+valid_size)"
   ]
  },
  {
   "cell_type": "markdown",
   "id": "6d400a2e",
   "metadata": {},
   "source": [
    "and then construct training and validation sets (seeding for reproducibility)"
   ]
  },
  {
   "cell_type": "code",
   "execution_count": 11,
   "id": "6b897d05",
   "metadata": {},
   "outputs": [],
   "source": [
    "torch.manual_seed(0)\n",
    "rand_idxs = torch.randperm(train_size+valid_size)\n",
    "train_idxs = rand_idxs[:train_size]\n",
    "valid_idxs = rand_idxs[valid_size:]"
   ]
  },
  {
   "cell_type": "code",
   "execution_count": 12,
   "id": "55885ace",
   "metadata": {},
   "outputs": [],
   "source": [
    "accs_train = torch.zeros(size=(train_size, 1, 2))\n",
    "accs_train[:, :, 1] = acc_range[train_idxs][:, None]\n",
    "\n",
    "v0s_train =  v0s[train_idxs]\n",
    "x0s_train = x0s[train_idxs]\n",
    "\n",
    "trajectories_target_train = position(time_steps, accs_train, x0s_train, v0s_train)"
   ]
  },
  {
   "cell_type": "code",
   "execution_count": 13,
   "id": "e6728234",
   "metadata": {},
   "outputs": [],
   "source": [
    "accs_valid = torch.zeros(size=(valid_size, 1, 2))\n",
    "accs_valid[:, :, 1] = acc_range[valid_idxs][:, None]\n",
    "\n",
    "v0s_valid =  v0s[valid_idxs]\n",
    "x0s_valid = x0s[valid_idxs]\n",
    "\n",
    "trajectories_target_valid = position(time_steps, accs_valid, x0s_valid, v0s_valid)"
   ]
  },
  {
   "cell_type": "markdown",
   "id": "19060f55",
   "metadata": {},
   "source": [
    "Package into appropriate shape"
   ]
  },
  {
   "cell_type": "code",
   "execution_count": 14,
   "id": "3580b6c2",
   "metadata": {},
   "outputs": [],
   "source": [
    "inputs = trajectories_target_train\n",
    "targets = torch.cat((accs_train, x0s_train, v0s_train), dim=1)\n",
    "\n",
    "inputs_val = trajectories_target_valid\n",
    "targets_val = torch.cat((accs_valid, x0s_valid, v0s_valid), dim=1)"
   ]
  },
  {
   "cell_type": "markdown",
   "id": "3b3aa403",
   "metadata": {},
   "source": [
    "And then train real quick"
   ]
  },
  {
   "cell_type": "code",
   "execution_count": 15,
   "id": "e11d3910",
   "metadata": {},
   "outputs": [
    {
     "name": "stderr",
     "output_type": "stream",
     "text": [
      "100%|████████████████████████████████████████████████████████████████████████████████████████████████████████████████████████████████████████████████████| 20000/20000 [00:12<00:00, 1564.32it/s]\n"
     ]
    }
   ],
   "source": [
    "# Initialize the MLP\n",
    "mlp = MLP()\n",
    "\n",
    "# Define the loss function and optimizer\n",
    "loss_fn = nn.MSELoss()\n",
    "optimizer = torch.optim.Adam(mlp.parameters(), lr=1e-5)\n",
    "\n",
    "losses = []\n",
    "losses_val = []\n",
    "# Run the training loop\n",
    "for epoch in tqdm(range(20000)): \n",
    "\n",
    "    # Zero the gradients\n",
    "    optimizer.zero_grad()\n",
    "\n",
    "    # Perform forward pass\n",
    "    outputs = mlp(inputs)\n",
    "\n",
    "    # Compute loss\n",
    "    loss = loss_fn(outputs, targets)\n",
    "    \n",
    "    with torch.no_grad():\n",
    "        out_valid = mlp(inputs_val)\n",
    "        loss_valid = loss_fn(out_valid, targets_val)\n",
    "        losses_val.append(loss_valid)\n",
    "\n",
    "    # Perform backward pass\n",
    "    loss.backward()\n",
    "\n",
    "    # Perform optimization\n",
    "    optimizer.step()\n",
    "    \n",
    "    losses.append(loss.item())"
   ]
  },
  {
   "cell_type": "code",
   "execution_count": 16,
   "id": "d65ac3e4",
   "metadata": {
    "scrolled": true
   },
   "outputs": [
    {
     "data": {
      "image/png": "[encoded data removed]",
      "text/plain": [
       "<Figure size 432x288 with 1 Axes>"
      ]
     },
     "metadata": {
      "needs_background": "light"
     },
     "output_type": "display_data"
    }
   ],
   "source": [
    "plt.plot(losses, label='Training Loss')\n",
    "plt.plot(losses_val, label='Validation Loss')\n",
    "plt.yscale('log')\n",
    "plt.legend()\n",
    "plt.xlabel('Training Iteration')\n",
    "plt.ylabel('Loss')\n",
    "plt.show()"
   ]
  },
  {
   "cell_type": "markdown",
   "id": "ceb66e54",
   "metadata": {},
   "source": [
    "Let's test the MLP prediction by a) sampling more finely and b) expanding the range of acceleration values considered"
   ]
  },
  {
   "cell_type": "code",
   "execution_count": 17,
   "id": "cd457222",
   "metadata": {},
   "outputs": [],
   "source": [
    "n_test = 300\n",
    "#Acceleration due to gravity (-9.8 m/s^2 in negative y direction)\n",
    "accs_test = torch.zeros(size=(n_test, 1, 2))\n",
    "accs_test[:, :, 1] = torch.linspace(-13, 13, n_test)[:, None]\n",
    "\n",
    "#Initial velocity for fun (m / s)\n",
    "v0s = torch.tile(torch.tensor([5, 10])[None, :], (n_test, 1, 1))\n",
    "\n",
    "#Start at (0,10) [m]\n",
    "x0s = torch.tile(torch.tensor([0,10])[None, :], (n_test, 1, 1))\n",
    "\n",
    "#Data taken at n_test known timesteps from 0 to 5 s\n",
    "time_steps = torch.linspace(0, 5, 100)[None, :, None]\n",
    "\n",
    "trajectories_test = position(time_steps, accs_test, x0s, v0s)"
   ]
  },
  {
   "cell_type": "code",
   "execution_count": 18,
   "id": "d9c36b24",
   "metadata": {},
   "outputs": [],
   "source": [
    "pred = mlp(trajectories_test).detach()\n",
    "ax_test = pred[:, 0, 0]\n",
    "ay_test = pred[:, 0, 1]"
   ]
  },
  {
   "cell_type": "code",
   "execution_count": 19,
   "id": "216bee3c",
   "metadata": {},
   "outputs": [
    {
     "data": {
      "image/png": "[encoded data removed]",
      "text/plain": [
       "<Figure size 432x288 with 1 Axes>"
      ]
     },
     "metadata": {
      "needs_background": "light"
     },
     "output_type": "display_data"
    }
   ],
   "source": [
    "plt.plot(ax_test, ay_test, label='Test MLP Prediction')\n",
    "plt.plot(accs_test[:, 0, 0], accs_test[:, 0, 1], label='True Values')\n",
    "plt.xlabel('$a_{x}$ [m / $s^2$]')\n",
    "plt.ylabel('$a_{y}$ [m / $s^2$]')\n",
    "plt.legend()\n",
    "#plt.xlim(-0.1, 0.1)\n",
    "plt.show()"
   ]
  },
  {
   "cell_type": "code",
   "execution_count": 20,
   "id": "f13f05c3",
   "metadata": {},
   "outputs": [
    {
     "data": {
      "image/png": "[encoded data removed]",
      "text/plain": [
       "<Figure size 432x288 with 1 Axes>"
      ]
     },
     "metadata": {
      "needs_background": "light"
     },
     "output_type": "display_data"
    }
   ],
   "source": [
    "plt.plot(ax_test, ay_test, label='Test MLP Prediction')\n",
    "plt.plot(accs_test[:, 0, 0], accs_test[:, 0, 1], label='True Values')\n",
    "plt.scatter(accs_train[:, 0, 0], accs_train[:, 0, 1])\n",
    "plt.xlabel('$a_{x}$ [m / $s^2$]')\n",
    "plt.ylabel('$a_{y}$ [m / $s^2$]')\n",
    "plt.legend()\n",
    "#plt.xlim(-0.1, 0.1)\n",
    "plt.show()"
   ]
  },
  {
   "cell_type": "markdown",
   "id": "3b7ad457",
   "metadata": {},
   "source": [
    "The MLP predictions for acceleration are very close to true values within the training range, but diverge as we go away from the training points -- we can, of course, make better models, but this emphasizes a point -- the MLP is fitting to training data, but has no explicit knowledge of the physics. \n",
    "\n",
    "But -- we've learned a (very simple) data-driven model for parameter estimation"
   ]
  },
  {
   "cell_type": "markdown",
   "id": "62bb92bb",
   "metadata": {},
   "source": [
    "## Why is this useful? \n",
    "\n",
    "Yesterday, we showed that given (1) a physics model (our differentiable forward model) and (2) a target trajectory, we could use gradient descent to learn the parameters of the target. \n",
    "\n",
    "In symbols, we have a simulator $\\Phi$ that maps from parameters $\\theta$ to trajectories $X$, or:\n",
    "\n",
    "\\begin{equation}\n",
    "\\Phi(\\theta) = X.\n",
    "\\end{equation}\n",
    "\n",
    "We can solve for the parameters of an arbitrary trajectory by _explicitly_ iterating on input parameters: namely comparing the output trajectory from some initial parameter guess and using backpropagation/gradient descent to update this parameter guess.\n",
    "\n",
    "\n",
    "Today, we have demonstrated that with no physics model, but with a set of trajectories and parameters, we can do a supervised training of a neural network to create a map from trajectories to parameters, namely, calling this map $f$, we learn\n",
    "\n",
    "\\begin{equation}\n",
    "f(X) = \\theta.\n",
    "\\end{equation}\n",
    "\n",
    "\n",
    "\n",
    "\n",
    "This supervised training is nice, and it works, but what if we only have the simulator and some data? Can we still learn f? It turns out, yes! We can do so with what we'll call a cycle-consistent loss, namely, if we chain together f and $\\Phi$, we get a mapping:\n",
    "\n",
    "\\begin{equation}\n",
    "\\Phi\\circ f: X \\rightarrow \\theta \\rightarrow X'.\n",
    "\\end{equation}\n",
    "\n",
    "In words, if we pass a set of trajectories through both $f$ and $\\Phi$, we get a new set of trajectories. Since $\\Phi$ is differentiable, we can backpropagate to update the parameters of $f$. In particular, if we define the loss such that $\\Phi\\circ f$ tries to reconstruct the input trajectories ($\\Phi\\circ f(X) = X$), we should _implicitly_ learn a mapping from $X$ to $\\theta$. That was a lot of words, so let's try it!"
   ]
  },
  {
   "cell_type": "markdown",
   "id": "b46daa2f",
   "metadata": {},
   "source": [
    "### Exercise:\n",
    "\n",
    "Write a loss function that takes in  "
   ]
  },
  {
   "cell_type": "markdown",
   "id": "38f2f621",
   "metadata": {},
   "source": [
    "Same training set as before:"
   ]
  },
  {
   "cell_type": "code",
   "execution_count": 143,
   "id": "8c2c63d3",
   "metadata": {},
   "outputs": [],
   "source": [
    "train_size = 50\n",
    "valid_size = 50\n",
    "\n",
    "#Initial velocity for fun (m / s)\n",
    "v0s = torch.tile(torch.tensor([5., 10.])[None, :], (train_size+valid_size, 1, 1))\n",
    "\n",
    "#Start at (0,10) [m]\n",
    "x0s = torch.tile(torch.tensor([0.,10.])[None, :], (train_size+valid_size, 1, 1))\n",
    "\n",
    "#Data taken at 100 known timesteps from 0 to 5 s\n",
    "time_steps = torch.linspace(0, 5, 100)[None, :, None]"
   ]
  },
  {
   "cell_type": "markdown",
   "id": "ebae5c95",
   "metadata": {},
   "source": [
    "Take some range of y-accelerations"
   ]
  },
  {
   "cell_type": "code",
   "execution_count": 144,
   "id": "57b38b88",
   "metadata": {},
   "outputs": [],
   "source": [
    "acc_range = torch.linspace(-12, 12, train_size+valid_size)"
   ]
  },
  {
   "cell_type": "markdown",
   "id": "2f16908e",
   "metadata": {},
   "source": [
    "and then construct training and validation sets (seeding for reproducibility)"
   ]
  },
  {
   "cell_type": "code",
   "execution_count": 145,
   "id": "d0477c79",
   "metadata": {},
   "outputs": [],
   "source": [
    "torch.manual_seed(0)\n",
    "rand_idxs = torch.randperm(train_size+valid_size)\n",
    "train_idxs = rand_idxs[:train_size]\n",
    "valid_idxs = rand_idxs[valid_size:]"
   ]
  },
  {
   "cell_type": "code",
   "execution_count": 146,
   "id": "333bbb14",
   "metadata": {},
   "outputs": [],
   "source": [
    "accs_train = torch.zeros(size=(train_size, 1, 2))\n",
    "accs_train[:, :, 1] = acc_range[train_idxs][:, None]\n",
    "\n",
    "v0s_train =  v0s[train_idxs]\n",
    "x0s_train = x0s[train_idxs]\n",
    "\n",
    "trajectories_target_train = position(time_steps, accs_train, x0s_train, v0s_train)"
   ]
  },
  {
   "cell_type": "code",
   "execution_count": 147,
   "id": "a5ded832",
   "metadata": {},
   "outputs": [],
   "source": [
    "accs_valid = torch.zeros(size=(valid_size, 1, 2))\n",
    "accs_valid[:, :, 1] = acc_range[valid_idxs][:, None]\n",
    "\n",
    "v0s_valid =  v0s[valid_idxs]\n",
    "x0s_valid = x0s[valid_idxs]\n",
    "\n",
    "trajectories_target_valid = position(time_steps, accs_valid, x0s_valid, v0s_valid)"
   ]
  },
  {
   "cell_type": "markdown",
   "id": "3b5541b0",
   "metadata": {},
   "source": [
    "Package into appropriate shape"
   ]
  },
  {
   "cell_type": "code",
   "execution_count": 148,
   "id": "3a80b731",
   "metadata": {},
   "outputs": [],
   "source": [
    "inputs = trajectories_target_train\n",
    "targets = torch.cat((accs_train, x0s_train, v0s_train), dim=1)\n",
    "\n",
    "inputs_val = trajectories_target_valid\n",
    "targets_val = torch.cat((accs_valid, x0s_valid, v0s_valid), dim=1)"
   ]
  },
  {
   "cell_type": "markdown",
   "id": "785d8d09",
   "metadata": {},
   "source": [
    "Now we run a training"
   ]
  },
  {
   "cell_type": "code",
   "execution_count": 18,
   "id": "d3346b7f",
   "metadata": {},
   "outputs": [
    {
     "name": "stderr",
     "output_type": "stream",
     "text": [
      "100%|████████████████████████████████████████████████████████████████████████████████████████████████████████████████████████████████████████████████████| 20000/20000 [00:16<00:00, 1205.13it/s]\n"
     ]
    }
   ],
   "source": [
    "# Initialize the MLP\n",
    "mlp = MLP()\n",
    "\n",
    "# Define the loss function and optimizer\n",
    "loss_fn = nn.MSELoss()\n",
    "optimizer = torch.optim.Adam(mlp.parameters(), lr=1e-5)\n",
    "\n",
    "losses = []\n",
    "losses_cc = []\n",
    "losses_val = []\n",
    "# Run the training loop\n",
    "for epoch in tqdm(range(20000)): \n",
    "\n",
    "    # Zero the gradients\n",
    "    optimizer.zero_grad()\n",
    "\n",
    "    # Perform forward pass\n",
    "    outputs = mlp(inputs)\n",
    "    \n",
    "    #Forward model\n",
    "    outputs_reshape = outputs.reshape((-1, 3, 2))\n",
    "    outputs_reshape = torch.unsqueeze(outputs_reshape, 1)\n",
    "    a = outputs_reshape[:, :, 0]\n",
    "    v0 = outputs_reshape[:, :, 1]\n",
    "    x0 = outputs_reshape[:, :, 2]\n",
    "    \n",
    "    traj = position(time_steps, a, v0, x0)\n",
    "    \n",
    "    # Compute loss\n",
    "    loss_cc = loss_fn(traj, inputs)\n",
    "    \n",
    "    loss = loss_cc\n",
    "    \n",
    "    with torch.no_grad():\n",
    "        out_valid = mlp(inputs_val)\n",
    "        loss_valid = loss_fn(out_valid, targets_val)\n",
    "        losses_val.append(loss_valid)\n",
    "\n",
    "    # Perform backward pass\n",
    "    loss.backward()\n",
    "\n",
    "    # Perform optimization\n",
    "    optimizer.step()\n",
    "    \n",
    "    losses.append(loss.item())\n",
    "    losses_cc.append(loss_cc.item())"
   ]
  },
  {
   "cell_type": "code",
   "execution_count": 19,
   "id": "55b698ac",
   "metadata": {
    "scrolled": true
   },
   "outputs": [
    {
     "data": {
      "image/png": "[encoded data removed]",
      "text/plain": [
       "<Figure size 432x288 with 1 Axes>"
      ]
     },
     "metadata": {
      "needs_background": "light"
     },
     "output_type": "display_data"
    }
   ],
   "source": [
    "plt.plot(losses, label='Training Loss')\n",
    "plt.plot(losses_val, label='Validation Loss')\n",
    "plt.yscale('log')\n",
    "plt.legend()\n",
    "plt.xlabel('Training Iteration')\n",
    "plt.ylabel('Loss')\n",
    "plt.show()"
   ]
  },
  {
   "cell_type": "markdown",
   "id": "fa1c47e7",
   "metadata": {},
   "source": [
    "Let's test the MLP prediction by a) sampling more finely and b) expanding the range of acceleration values considered"
   ]
  },
  {
   "cell_type": "code",
   "execution_count": 20,
   "id": "8e0e4c00",
   "metadata": {},
   "outputs": [],
   "source": [
    "#Acceleration due to gravity (-9.8 m/s^2 in negative y direction)\n",
    "accs_test = torch.zeros(size=(100, 1, 2))\n",
    "accs_test[:, :, 1] = torch.linspace(-14, 14, 100)[:, None]\n",
    "\n",
    "#Initial velocity for fun (m / s)\n",
    "v0s = torch.tile(torch.tensor([5, 10])[None, :], (100, 1, 1))\n",
    "\n",
    "#Start at (0,10) [m]\n",
    "x0s = torch.tile(torch.tensor([0,10])[None, :], (100, 1, 1))\n",
    "\n",
    "#Data taken at 100 known timesteps from 0 to 5 s\n",
    "time_steps = torch.linspace(0, 5, 100)[None, :, None]\n",
    "\n",
    "trajectories_test = position(time_steps, accs_test, x0s, v0s)"
   ]
  },
  {
   "cell_type": "code",
   "execution_count": 21,
   "id": "53d75028",
   "metadata": {},
   "outputs": [],
   "source": [
    "pred = mlp(trajectories_test).detach()\n",
    "ax_test = pred[:, 0, 0]\n",
    "ay_test = pred[:, 0, 1]"
   ]
  },
  {
   "cell_type": "code",
   "execution_count": 22,
   "id": "a2857cd2",
   "metadata": {},
   "outputs": [
    {
     "data": {
      "image/png": "[encoded data removed]",
      "text/plain": [
       "<Figure size 432x288 with 1 Axes>"
      ]
     },
     "metadata": {
      "needs_background": "light"
     },
     "output_type": "display_data"
    }
   ],
   "source": [
    "plt.plot(ax_test, ay_test, label='Test MLP Prediction')\n",
    "plt.plot(accs_test[:, 0, 0], accs_test[:, 0, 1], label='True Values')\n",
    "plt.xlabel('$a_{x}$ [m / $s^2$]')\n",
    "plt.ylabel('$a_{y}$ [m / $s^2$]')\n",
    "plt.legend()\n",
    "#plt.xlim(-0.1, 0.1)\n",
    "plt.show()"
   ]
  },
  {
   "cell_type": "markdown",
   "id": "f94f288b",
   "metadata": {},
   "source": [
    "It works! Note that such a loss can also be added to the fully supervised setting as a _regularization term_."
   ]
  },
  {
   "cell_type": "markdown",
   "id": "a70562cf",
   "metadata": {},
   "source": [
    "## Single trajectories and autoencoders\n",
    "\n",
    "This idea of implicit variables and \"trying to reconstruct the inputs\" may be ringing some bells -- the loss that we've defined above is effectively an _autoencoder_, where $f$ _encodes_ trajectories into a latent parameter space, and $\\Phi$ _decodes_ these latent parameters back into trajectory space. \n",
    "\n",
    "The fun thing with this tutorial is that only the encoder is learnable -- the decoder is fixed, and given by the forward model. Crucially, however, our decoder is differentiable, otherwise we wouldn't be able to learn the encoder in the same way.\n",
    "\n",
    "Let's write this autoencoder structure explicitly -- some lines might look familiar..."
   ]
  },
  {
   "cell_type": "code",
   "execution_count": 23,
   "id": "dce45ab3",
   "metadata": {},
   "outputs": [],
   "source": [
    "class MLP_autoencoder(nn.Module):\n",
    "    '''\n",
    "    Multilayer Perceptron.\n",
    "    '''\n",
    "    def __init__(self):\n",
    "        super().__init__()\n",
    "        self.layers = nn.Sequential(\n",
    "                          nn.Flatten(),\n",
    "                          nn.Linear(200, 50),\n",
    "                          nn.ReLU(),\n",
    "                          nn.Linear(50, 6)\n",
    "                        )\n",
    "        self.timesteps = torch.linspace(0, 5, 100)[:, None]\n",
    "\n",
    "    def encode(self, x):\n",
    "        '''Forward pass'''\n",
    "        out = self.layers(x)\n",
    "        out = out.reshape((-1, 3, 2))\n",
    "        return out\n",
    "    \n",
    "    def decode(self, x):\n",
    "        x = torch.unsqueeze(x, 1)\n",
    "        a = x[:, :, 0]\n",
    "        v0 = x[:, :, 1]\n",
    "        x0 = x[:, :, 2]\n",
    "        return position(self.timesteps, a, v0, x0)\n",
    "    \n",
    "    def forward(self, x):\n",
    "        enc = self.encode(x)\n",
    "        dec = self.decode(enc)\n",
    "        return dec"
   ]
  },
  {
   "cell_type": "markdown",
   "id": "1ccb3022",
   "metadata": {},
   "source": [
    "We've demonstrated what such a structure does in the context of multiple trajectories, but let's focus for now on a single trajectory. Training is much the same as usual:"
   ]
  },
  {
   "cell_type": "code",
   "execution_count": 27,
   "id": "eece0ea7",
   "metadata": {},
   "outputs": [],
   "source": [
    "inputs = trajectory_target[None, :, :]\n",
    "targets = torch.stack([a_target, x0_target, v0_target]).squeeze()[None, ...]"
   ]
  },
  {
   "cell_type": "code",
   "execution_count": 28,
   "id": "46242904",
   "metadata": {},
   "outputs": [
    {
     "name": "stderr",
     "output_type": "stream",
     "text": [
      "100%|██████████████████████████████████████████████████████████████████████████████████████████████████████████████████████████████████████████████████████| 5000/5000 [00:03<00:00, 1560.89it/s]\n"
     ]
    }
   ],
   "source": [
    "# Initialize the MLP\n",
    "mlp_auto = MLP_autoencoder()\n",
    "\n",
    "# Define the loss function and optimizer\n",
    "loss_fn = nn.MSELoss()\n",
    "optimizer = torch.optim.Adam(mlp_auto.parameters(), lr=1e-4)\n",
    "\n",
    "# Run the training loop\n",
    "for epoch in tqdm(range(5000)): \n",
    "\n",
    "    # Zero the gradients\n",
    "    optimizer.zero_grad()\n",
    "\n",
    "    # Perform forward pass\n",
    "    outputs = mlp_auto(inputs)\n",
    "\n",
    "    # Compute loss\n",
    "    loss = loss_fn(outputs, inputs)\n",
    "\n",
    "    # Perform backward pass\n",
    "    loss.backward()\n",
    "\n",
    "    # Perform optimization\n",
    "    optimizer.step()"
   ]
  },
  {
   "cell_type": "markdown",
   "id": "38879f6a",
   "metadata": {},
   "source": [
    "Where the input and output trajectories match:"
   ]
  },
  {
   "cell_type": "code",
   "execution_count": 29,
   "id": "f74ccff9",
   "metadata": {
    "scrolled": true
   },
   "outputs": [
    {
     "data": {
      "image/png": "[encoded data removed]",
      "text/plain": [
       "<Figure size 432x288 with 1 Axes>"
      ]
     },
     "metadata": {
      "needs_background": "light"
     },
     "output_type": "display_data"
    }
   ],
   "source": [
    "plt.plot(outputs.detach().numpy()[0, :, 0], outputs.detach().numpy()[0, :, 1])\n",
    "plt.plot(inputs.numpy()[0, :, 0], inputs.numpy()[0, :, 1])\n",
    "plt.show()"
   ]
  },
  {
   "cell_type": "markdown",
   "id": "b1395534",
   "metadata": {},
   "source": [
    "And the outputs of the encoder match the \"true\" parameters:"
   ]
  },
  {
   "cell_type": "code",
   "execution_count": 30,
   "id": "1712c05a",
   "metadata": {},
   "outputs": [
    {
     "data": {
      "text/plain": [
       "(tensor([[[ 1.4752e-05, -9.8000e+00],\n",
       "          [-9.6187e-06,  1.0000e+01],\n",
       "          [ 5.0000e+00,  1.0000e+01]]], grad_fn=<ReshapeAliasBackward0>),\n",
       " tensor([[[ 0.0000, -9.8000],\n",
       "          [ 0.0000, 10.0000],\n",
       "          [ 5.0000, 10.0000]]]))"
      ]
     },
     "execution_count": 30,
     "metadata": {},
     "output_type": "execute_result"
    }
   ],
   "source": [
    "mlp_auto.encode(inputs), targets"
   ]
  },
  {
   "cell_type": "markdown",
   "id": "63d58bb1",
   "metadata": {},
   "source": [
    "## Noisy inputs and encoding\n",
    "Now suppose we have some measurement noise, which we'll assume to be Gaussian for simplicity. We can make the same measurement multiple times, which gives us a bit more info:"
   ]
  },
  {
   "cell_type": "code",
   "execution_count": 31,
   "id": "5a54dbfc",
   "metadata": {},
   "outputs": [],
   "source": [
    "noisy_target = trajectory_target + torch.normal(torch.zeros((500,)+trajectory_target.shape), \n",
    "                                                torch.ones((500,)+trajectory_target.shape)*0.2)"
   ]
  },
  {
   "cell_type": "code",
   "execution_count": 32,
   "id": "41af635a",
   "metadata": {},
   "outputs": [
    {
     "data": {
      "text/plain": [
       "torch.Size([500, 100, 2])"
      ]
     },
     "execution_count": 32,
     "metadata": {},
     "output_type": "execute_result"
    }
   ],
   "source": [
    "noisy_target.shape"
   ]
  },
  {
   "cell_type": "code",
   "execution_count": 33,
   "id": "05472a1f",
   "metadata": {},
   "outputs": [
    {
     "data": {
      "image/png": "[encoded data removed]",
      "text/plain": [
       "<Figure size 432x288 with 1 Axes>"
      ]
     },
     "metadata": {
      "needs_background": "light"
     },
     "output_type": "display_data"
    }
   ],
   "source": [
    "for i in range(len(noisy_target)):\n",
    "    plt.plot(noisy_target[i, :, 0], noisy_target[i, :, 1])\n",
    "plt.plot(trajectory_target[:, 0], trajectory_target[:, 1])\n",
    "plt.show()"
   ]
  },
  {
   "cell_type": "markdown",
   "id": "418898a3",
   "metadata": {},
   "source": [
    "We might expect noise on the input to translate into some uncertainty on the fitted trajectory parameters. How do we estimate this? A first naive thing to do is try to learn parameters for each measurement -- we'll do so with our autoencoder setup for now:"
   ]
  },
  {
   "cell_type": "code",
   "execution_count": 34,
   "id": "97c9a58e",
   "metadata": {},
   "outputs": [],
   "source": [
    "inputs = noisy_target.clone()"
   ]
  },
  {
   "cell_type": "code",
   "execution_count": 35,
   "id": "4d1074aa",
   "metadata": {
    "scrolled": true
   },
   "outputs": [
    {
     "name": "stderr",
     "output_type": "stream",
     "text": [
      "100%|███████████████████████████████████████████████████████████████████████████████████████████████████████████████████████████████████████████████████████| 3000/3000 [00:07<00:00, 416.15it/s]\n"
     ]
    }
   ],
   "source": [
    "# Initialize the MLP\n",
    "mlp_auto = MLP_autoencoder()\n",
    "\n",
    "# Define the loss function and optimizer\n",
    "loss_fn = nn.MSELoss()\n",
    "optimizer = torch.optim.Adam(mlp_auto.parameters(), lr=1e-4)\n",
    "\n",
    "losses = []\n",
    "# Run the training loop\n",
    "for epoch in tqdm(range(3000)): \n",
    "\n",
    "    # Zero the gradients\n",
    "    optimizer.zero_grad()\n",
    "\n",
    "    # Perform forward pass\n",
    "    outputs = mlp_auto(inputs)\n",
    "\n",
    "    # Compute loss\n",
    "    loss = loss_fn(outputs, inputs)\n",
    "\n",
    "    # Perform backward pass\n",
    "    loss.backward()\n",
    "\n",
    "    # Perform optimization\n",
    "    optimizer.step()\n",
    "    \n",
    "    losses.append(loss.item())"
   ]
  },
  {
   "cell_type": "code",
   "execution_count": 36,
   "id": "96f70d38",
   "metadata": {},
   "outputs": [
    {
     "data": {
      "image/png": "[encoded data removed]",
      "text/plain": [
       "<Figure size 432x288 with 1 Axes>"
      ]
     },
     "metadata": {
      "needs_background": "light"
     },
     "output_type": "display_data"
    }
   ],
   "source": [
    "plt.plot(losses)\n",
    "plt.yscale('log')"
   ]
  },
  {
   "cell_type": "markdown",
   "id": "10b1496d",
   "metadata": {},
   "source": [
    "Then, let's take a look at our learned parameter values:"
   ]
  },
  {
   "cell_type": "code",
   "execution_count": 37,
   "id": "a28931bd",
   "metadata": {},
   "outputs": [],
   "source": [
    "params = mlp_auto.encode(inputs).detach()"
   ]
  },
  {
   "cell_type": "code",
   "execution_count": 38,
   "id": "cafea297",
   "metadata": {},
   "outputs": [],
   "source": [
    "a_vals = params[:, 0, :]\n",
    "x0_vals = params[:, 1, :]\n",
    "v0_vals = params[:, 2, :]"
   ]
  },
  {
   "cell_type": "code",
   "execution_count": 62,
   "id": "a2329419",
   "metadata": {},
   "outputs": [
    {
     "data": {
      "image/png": "[encoded data removed]",
      "text/plain": [
       "<Figure size 432x288 with 1 Axes>"
      ]
     },
     "metadata": {
      "needs_background": "light"
     },
     "output_type": "display_data"
    },
    {
     "data": {
      "image/png": "[encoded data removed]",
      "text/plain": [
       "<Figure size 432x288 with 1 Axes>"
      ]
     },
     "metadata": {
      "needs_background": "light"
     },
     "output_type": "display_data"
    },
    {
     "data": {
      "image/png": "[encoded data removed]",
      "text/plain": [
       "<Figure size 432x288 with 1 Axes>"
      ]
     },
     "metadata": {
      "needs_background": "light"
     },
     "output_type": "display_data"
    }
   ],
   "source": [
    "plt.scatter(a_vals[:, 0], a_vals[:, 1])\n",
    "plt.scatter(a_target[:, 0], a_target[:, 1], c='k')\n",
    "    \n",
    "plt.show()\n",
    "\n",
    "\n",
    "plt.scatter(x0_vals[:, 0], x0_vals[:, 1])\n",
    "plt.scatter(x0_target[:, 0], x0_target[:, 1], c='k')\n",
    "    \n",
    "plt.show()\n",
    "\n",
    "plt.scatter(v0_vals[:, 0], v0_vals[:, 1])\n",
    "plt.scatter(v0_target[:, 0], v0_target[:, 1], c='k')\n",
    "    \n",
    "plt.show()"
   ]
  },
  {
   "cell_type": "markdown",
   "id": "8db63647",
   "metadata": {},
   "source": [
    "The noise on the input results in some _distribution_ of fitted parameter values -- we now have a pipeline to automatically translate a distribution over trajectories into a distribution over parameters! Using this to naively get parameter values + an uncertainty:"
   ]
  },
  {
   "cell_type": "code",
   "execution_count": 40,
   "id": "1dd27b05",
   "metadata": {},
   "outputs": [
    {
     "name": "stdout",
     "output_type": "stream",
     "text": [
      "x acceleration: -0.00 +/- 0.002 m / s^2\n",
      "y acceleration: -9.80 +/- 0.002 m / s^2\n"
     ]
    }
   ],
   "source": [
    "from math import sqrt\n",
    "mean_acc = torch.mean(a_vals, axis=0)\n",
    "\n",
    "#Std error has factor of 1/sqrt(N)\n",
    "N = len(a_vals)\n",
    "std_acc = torch.std(a_vals, axis=0)\n",
    "\n",
    "print(f'x acceleration: {mean_acc[0]:.2f} +/- {std_acc[0]/sqrt(N):.3f} m / s^2')\n",
    "print(f'y acceleration: {mean_acc[1]:.2f} +/- {std_acc[1]/sqrt(N):.3f} m / s^2')"
   ]
  },
  {
   "cell_type": "markdown",
   "id": "d895605e",
   "metadata": {},
   "source": [
    "## Bonus (WIP): \n",
    "\n",
    "We can also do something a bit more advanced! Instead of predicting sets of parameter values and computing emprical means/errors, we can do this as a part of the training, namely: \n",
    "\n",
    "1. Map each trajectory to _distributions_ in parameter space. Namely:\n",
    "\n",
    "    a. Predict a mean/standard deviation in parameter space for each input trajectory\n",
    "    \n",
    "    b. On each training iteration, pass a random sample from a Gaussian with this mean/std dev to the decoder\n",
    "    \n",
    "    \n",
    "2. Use an additional term in the loss to impose properties on the learned parameter space\n",
    "\n",
    "These tricks are at the heart of Variational Autoencoders. #2 gets a bit tricky for us -- the learned _latent space_ is often constrained via a KL divergence to be a spherical Gaussian. For us this doesn't work -- the parameters have physical meaning. For fun, let's do the KL divergence w.r.t. a diagonal Gaussian at the sample mean, with variance given by mean of sample variance "
   ]
  },
  {
   "cell_type": "code",
   "execution_count": 67,
   "id": "cf0ed383",
   "metadata": {},
   "outputs": [],
   "source": [
    "class VAE(nn.Module):\n",
    "    '''\n",
    "    Multilayer Perceptron.\n",
    "    '''\n",
    "    def __init__(self):\n",
    "        super().__init__()\n",
    "        self.layers = nn.Sequential(\n",
    "                          nn.Flatten(),\n",
    "                          nn.Linear(200, 50),\n",
    "                          nn.ReLU(),\n",
    "                        )\n",
    "        self.layer_mu = nn.Linear(50, 6)\n",
    "        self.layer_sig = nn.Linear(50, 6)\n",
    "        self.timesteps = torch.linspace(0, 5, 100)[:, None]\n",
    "        self.N = torch.distributions.Normal(0, 1)\n",
    "        \n",
    "        self.kl = 0\n",
    "\n",
    "    def encode(self, x):\n",
    "        '''Forward pass'''\n",
    "        out = self.layers(x)\n",
    "        mu = self.layer_mu(out)\n",
    "        sigma = torch.exp(0.5*self.layer_sig(out))\n",
    "                \n",
    "        z = mu + sigma*self.N.sample(mu.shape)\n",
    "        \n",
    "        #shift and center for kl\n",
    "        mu_mean = mu.mean(dim=0)\n",
    "        sigma_mean = torch.sqrt((sigma**2).sum(dim=0))/len(sigma)\n",
    "        self.kl = ((sigma**2 + (mu-mu_mean)**2)/(2*sigma_mean**2) - torch.log(sigma/sigma_mean) - 1/2).sum()\n",
    "        \n",
    "        return z, mu, sigma\n",
    "    \n",
    "    def decode(self, x):\n",
    "        x = x.reshape((-1, 3, 2))\n",
    "        x = torch.unsqueeze(x, 1)\n",
    "        a = x[:, :, 0]\n",
    "        v0 = x[:, :, 1]\n",
    "        x0 = x[:, :, 2]\n",
    "        return position(self.timesteps, a, v0, x0)\n",
    "    \n",
    "    def forward(self, x):\n",
    "        enc = self.encode(x)[0]\n",
    "        dec = self.decode(enc)\n",
    "        return dec"
   ]
  },
  {
   "cell_type": "code",
   "execution_count": 82,
   "id": "b383889d",
   "metadata": {},
   "outputs": [
    {
     "name": "stderr",
     "output_type": "stream",
     "text": [
      "100%|█████████████████████████████████████████████████████████████████████████████████████████████████████████████████████████████████████████████████████| 30000/30000 [01:38<00:00, 304.34it/s]\n"
     ]
    }
   ],
   "source": [
    "# Initialize the MLP\n",
    "mlp_VAE = VAE()\n",
    "\n",
    "# Define the loss function and optimizer\n",
    "loss_fn = nn.MSELoss()\n",
    "optimizer = torch.optim.Adam(mlp_VAE.parameters(), lr=1e-3)\n",
    "\n",
    "losses = []\n",
    "# Run the training loop\n",
    "for epoch in tqdm(range(30000)): \n",
    "\n",
    "    # Zero the gradients\n",
    "    optimizer.zero_grad()\n",
    "\n",
    "    # Perform forward pass\n",
    "    outputs = mlp_VAE(inputs)\n",
    "\n",
    "    # Compute loss\n",
    "    loss = loss_fn(outputs, inputs) + mlp_VAE.kl\n",
    "\n",
    "    # Perform backward pass\n",
    "    loss.backward()\n",
    "\n",
    "    # Perform optimization\n",
    "    optimizer.step()\n",
    "    losses.append(loss.item())"
   ]
  },
  {
   "cell_type": "code",
   "execution_count": 83,
   "id": "7cadb8f7",
   "metadata": {},
   "outputs": [
    {
     "data": {
      "image/png": "[encoded data removed]",
      "text/plain": [
       "<Figure size 432x288 with 1 Axes>"
      ]
     },
     "metadata": {
      "needs_background": "light"
     },
     "output_type": "display_data"
    }
   ],
   "source": [
    "plt.plot(losses[1000:])\n",
    "plt.yscale('log')\n",
    "plt.show()"
   ]
  },
  {
   "cell_type": "code",
   "execution_count": 84,
   "id": "c3ef781d",
   "metadata": {},
   "outputs": [],
   "source": [
    "mus = mlp_VAE.encode(inputs)[1].reshape((-1, 3, 2)).detach()\n",
    "stds = mlp_VAE.encode(inputs)[2].reshape((-1, 3, 2)).detach()"
   ]
  },
  {
   "cell_type": "code",
   "execution_count": 86,
   "id": "7a9a14f0",
   "metadata": {},
   "outputs": [],
   "source": [
    "from matplotlib import patches"
   ]
  },
  {
   "cell_type": "code",
   "execution_count": 87,
   "id": "55267261",
   "metadata": {},
   "outputs": [
    {
     "data": {
      "image/png": "[encoded data removed]",
      "text/plain": [
       "<Figure size 432x288 with 1 Axes>"
      ]
     },
     "metadata": {
      "needs_background": "light"
     },
     "output_type": "display_data"
    }
   ],
   "source": [
    "for i in range(len(mus)):\n",
    "    plt.scatter(mus[i, 0, 0], mus[i, 0, 1])\n",
    "    el = patches.Ellipse((mus[i, 0, 0], mus[i, 0, 1]), stds[i, 0, 0], stds[i,0,1], fc='None', ec='r')\n",
    "    ax = plt.gca()\n",
    "    ax.add_patch(el)\n",
    "\n",
    "plt.scatter(a_target[:, 0], a_target[:, 1], c='k')\n",
    "    \n",
    "plt.show()"
   ]
  },
  {
   "cell_type": "markdown",
   "id": "bf6f7629",
   "metadata": {},
   "source": [
    "Note that, if we sample new trajectories, the predictions fall within the error range"
   ]
  },
  {
   "cell_type": "code",
   "execution_count": 88,
   "id": "1ba0b316",
   "metadata": {},
   "outputs": [],
   "source": [
    "new_target = trajectory_target + torch.normal(torch.zeros((1000,)+trajectory_target.shape), \n",
    "                                                torch.ones((1000,)+trajectory_target.shape)*0.2)"
   ]
  },
  {
   "cell_type": "code",
   "execution_count": 89,
   "id": "1bbadf28",
   "metadata": {},
   "outputs": [],
   "source": [
    "mus_new = mlp_VAE.encode(new_target)[1].reshape((-1, 3, 2)).detach()\n",
    "stds_new = mlp_VAE.encode(new_target)[2].reshape((-1, 3, 2)).detach()"
   ]
  },
  {
   "cell_type": "code",
   "execution_count": 90,
   "id": "a413dbc2",
   "metadata": {},
   "outputs": [
    {
     "data": {
      "image/png": "[encoded data removed]",
      "text/plain": [
       "<Figure size 432x288 with 1 Axes>"
      ]
     },
     "metadata": {
      "needs_background": "light"
     },
     "output_type": "display_data"
    }
   ],
   "source": [
    "for i in range(len(mus_new)):\n",
    "    plt.scatter(mus_new[i, 0, 0], mus_new[i, 0, 1])\n",
    "    \n",
    "    \n",
    "for i in range(len(mus)):\n",
    "    plt.scatter(mus[i, 0, 0], mus[i, 0, 1])\n",
    "    el = patches.Ellipse((mus[i, 0, 0], mus[i, 0, 1]), stds[i, 0, 0], stds[i,0,1], fc='None', ec='r')\n",
    "    ax = plt.gca()\n",
    "    ax.add_patch(el)\n",
    "\n",
    "plt.scatter(a_target[:, 0], a_target[:, 1], c='k')\n",
    "    \n",
    "plt.show()"
   ]
  },
  {
   "cell_type": "code",
   "execution_count": 96,
   "id": "17821f34",
   "metadata": {},
   "outputs": [],
   "source": [
    "#Acceleration due to gravity (-9.8 m/s^2 in negative y direction)\n",
    "a_other = torch.tensor([0, -12])[None, :]\n",
    "\n",
    "#Initial velocity for fun (m / s)\n",
    "v0_other = torch.tensor([5, 10])[None, :]\n",
    "\n",
    "#Start at (0,10) [m]\n",
    "x0_other = torch.tensor([0,10])[None, :]\n",
    "\n",
    "#Data taken at 100 known timesteps from 0 to 5 s\n",
    "time_steps = torch.linspace(0, 5, 100)[:, None]\n",
    "\n",
    "trajectory_other = position(time_steps, a_other, x0_other, v0_other)"
   ]
  },
  {
   "cell_type": "code",
   "execution_count": 97,
   "id": "50a1f5fb",
   "metadata": {},
   "outputs": [],
   "source": [
    "other_target = trajectory_other + torch.normal(torch.zeros((10,)+trajectory_other.shape), \n",
    "                                                torch.ones((10,)+trajectory_other.shape)*0.2)"
   ]
  },
  {
   "cell_type": "code",
   "execution_count": 98,
   "id": "d91fd5a0",
   "metadata": {},
   "outputs": [],
   "source": [
    "mus_other = mlp_VAE.encode(other_target)[1].reshape((-1, 3, 2)).detach()\n",
    "stds_other = mlp_VAE.encode(other_target)[2].reshape((-1, 3, 2)).detach()"
   ]
  },
  {
   "cell_type": "code",
   "execution_count": 99,
   "id": "d83e3089",
   "metadata": {},
   "outputs": [
    {
     "data": {
      "image/png": "[encoded data removed]",
      "text/plain": [
       "<Figure size 432x288 with 1 Axes>"
      ]
     },
     "metadata": {
      "needs_background": "light"
     },
     "output_type": "display_data"
    }
   ],
   "source": [
    "for i in range(len(mus_other)):\n",
    "    plt.scatter(mus_other[i, 0, 0], mus_other[i, 0, 1])\n",
    "    el = patches.Ellipse((mus_other[i, 0, 0], mus_other[i, 0, 1]), stds_other[i, 0, 0], stds_other[i,0,1], fc='None', ec='r')\n",
    "    ax = plt.gca()\n",
    "    ax.add_patch(el)\n",
    "\n",
    "plt.scatter(a_target[:, 0], a_target[:, 1], c='k')\n",
    "plt.scatter(a_other[:, 0], a_other[:, 1], c='k')\n",
    "    \n",
    "plt.show()"
   ]
  },
  {
   "cell_type": "code",
   "execution_count": null,
   "id": "f15bf53c",
   "metadata": {},
   "outputs": [],
   "source": []
  },
  {
   "cell_type": "code",
   "execution_count": null,
   "id": "3027099b",
   "metadata": {},
   "outputs": [],
   "source": []
  },
  {
   "cell_type": "code",
   "execution_count": null,
   "id": "e72e3f22",
   "metadata": {},
   "outputs": [],
   "source": []
  }
 ],
 "metadata": {
  "kernelspec": {
   "display_name": "Python 3 (ipykernel)",
   "language": "python",
   "name": "python3"
  },
  "language_info": {
   "codemirror_mode": {
    "name": "ipython",
    "version": 3
   },
   "file_extension": ".py",
   "mimetype": "text/x-python",
   "name": "python",
   "nbconvert_exporter": "python",
   "pygments_lexer": "ipython3",
   "version": "3.8.12"
  }
 },
 "nbformat": 4,
 "nbformat_minor": 5
}
